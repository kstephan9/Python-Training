{
 "cells": [
  {
   "cell_type": "code",
   "execution_count": null,
   "metadata": {},
   "outputs": [],
   "source": [
    "# %load IteratorProblem01.py\n",
    "\"\"\"\n",
    "# https://www.youtube.com/watch?v=jTYiNjvnHZY\n",
    "# Corey Schafer\n",
    "\n",
    "# Coding problem video: https://youtu.be/C3Z9lJXI6Qw\n",
    "\n",
    "\n",
    "# see Corey's \"Itertools\" module ...\n",
    "An object is \"iterable\" if it can be looped over.\n",
    "An object must return an \"iterator\" object from its __iter__() method.\n",
    "The iterator that is returned from __iter__() must define a \"__next__() method.\n",
    "\n",
    "What is an iterator\"\n",
    "    It is an object with a state that remembers where it is.\n",
    "    It knows how to access its next value by using its \"__next__()\" method.\n",
    "    Once all values are exhausted, a Stopiteration exception is raised\n",
    "\n",
    "\"Coding problems: creating your own iterators.\"\n",
    "@author: ken.stephani\n",
    "\n",
    "@author: ken.stephani\n",
    "\"\"\"\n",
    "\n",
    "class Sentence:\n",
    "    def __init__(self, sent):\n",
    "        self.sent = sent\n",
    "        self.index = 0\n",
    "        self.words = self.sent.split()\n",
    "        \n",
    "    def __iter__(self):\n",
    "        return self\n",
    "        \n",
    "    def __next__(self):\n",
    "        if self.index >= len(self.words):\n",
    "            raise StopIteration\n",
    "        index = self.index\n",
    "        self.index +=1\n",
    "        return self.words[index]\n",
    "\n",
    "my_sentence = Sentence('This asdf asdf is a xx test')\n",
    "print(dir(my_sentence))\n",
    "\n",
    "print(next(my_sentence))\n",
    "\n",
    "for word in my_sentence:\n",
    "    print(word)\n",
    "\n",
    "#print(next(my_sentence))\n",
    "#print(next(my_sentence))\n"
   ]
  },
  {
   "cell_type": "code",
   "execution_count": null,
   "metadata": {},
   "outputs": [],
   "source": []
  },
  {
   "cell_type": "code",
   "execution_count": null,
   "metadata": {},
   "outputs": [],
   "source": []
  },
  {
   "cell_type": "code",
   "execution_count": null,
   "metadata": {},
   "outputs": [],
   "source": []
  }
 ],
 "metadata": {
  "kernelspec": {
   "display_name": "Python 3",
   "language": "python",
   "name": "python3"
  },
  "language_info": {
   "codemirror_mode": {
    "name": "ipython",
    "version": 3
   },
   "file_extension": ".py",
   "mimetype": "text/x-python",
   "name": "python",
   "nbconvert_exporter": "python",
   "pygments_lexer": "ipython3",
   "version": "3.7.3"
  }
 },
 "nbformat": 4,
 "nbformat_minor": 2
}
