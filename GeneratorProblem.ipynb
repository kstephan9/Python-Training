{
 "cells": [
  {
   "cell_type": "code",
   "execution_count": 1,
   "metadata": {},
   "outputs": [
    {
     "data": {
      "text/html": [
       "<style type=\"text/css\">\n",
       "    table.dataframe td, table.dataframe th {\n",
       "        border-style: double;\n",
       "    }\n",
       "</style>\n",
       "options(jupyter.plot_mimetypes = c(\"text/plain\", \"image/png\" ))"
      ],
      "text/plain": [
       "<IPython.core.display.HTML object>"
      ]
     },
     "metadata": {},
     "output_type": "display_data"
    }
   ],
   "source": [
    "%%HTML\n",
    "<style type=\"text/css\">\n",
    "    table.dataframe td, table.dataframe th {\n",
    "        border-style: double;\n",
    "    }\n",
    "</style>\n",
    "options(jupyter.plot_mimetypes = c(\"text/plain\", \"image/png\" ))\n"
   ]
  },
  {
   "cell_type": "code",
   "execution_count": 2,
   "metadata": {},
   "outputs": [],
   "source": [
    "# %load GeneratorProblem.py\n",
    "\"\"\"\n",
    "Created on Thu May 30 08:18:41 2019\n",
    "\n",
    "@author: ken.stephani\n",
    "\"\"\"\n",
    "\n",
    "sent = \"Now is the time\"\n",
    "## Generators ...\n",
    "    \n",
    "#### https://www.youtube.com/watch?v=jTYiNjvnHZY\n"
   ]
  },
  {
   "cell_type": "code",
   "execution_count": 3,
   "metadata": {},
   "outputs": [
    {
     "name": "stdout",
     "output_type": "stream",
     "text": [
      "Row 19:  ['__class__', '__del__', '__delattr__', '__dir__', '__doc__', '__eq__', '__format__', '__ge__', '__getattribute__', '__gt__', '__hash__', '__init__', '__init_subclass__', '__iter__', '__le__', '__lt__', '__name__', '__ne__', '__new__', '__next__', '__qualname__', '__reduce__', '__reduce_ex__', '__repr__', '__setattr__', '__sizeof__', '__str__', '__subclasshook__', 'close', 'gi_code', 'gi_frame', 'gi_running', 'gi_yieldfrom', 'send', 'throw']\n",
      "From my_Sentence_generator: \n",
      "Row 22:  <generator object my_Sentence_generator at 0x000001CC21830CA8>\n",
      "\n",
      "From my_Sentence_generator, for: \n",
      "Now\n",
      "is\n",
      "the\n",
      "time\n"
     ]
    }
   ],
   "source": [
    "\n",
    "def my_Sentence_generator(sent):\n",
    "    for word in sent.split():\n",
    "        yield word\n",
    "\n",
    "nums = my_Sentence_generator(sent)\n",
    "\n",
    "print(\"Row 19: \", dir(nums))\n",
    "\n",
    "print(\"From my_Sentence_generator: \")\n",
    "print(\"Row 22: \", nums)\n",
    "print(\"\\nFrom my_Sentence_generator, for: \")\n",
    "\n",
    "print(next(nums))\n",
    "for num in nums:\n",
    "    print(num)\n",
    "    \n",
    "\n",
    "\n",
    "\n",
    "\n"
   ]
  },
  {
   "cell_type": "code",
   "execution_count": null,
   "metadata": {},
   "outputs": [],
   "source": []
  },
  {
   "cell_type": "code",
   "execution_count": null,
   "metadata": {},
   "outputs": [],
   "source": []
  }
 ],
 "metadata": {
  "kernelspec": {
   "display_name": "Python 3",
   "language": "python",
   "name": "python3"
  },
  "language_info": {
   "codemirror_mode": {
    "name": "ipython",
    "version": 3
   },
   "file_extension": ".py",
   "mimetype": "text/x-python",
   "name": "python",
   "nbconvert_exporter": "python",
   "pygments_lexer": "ipython3",
   "version": "3.6.5"
  }
 },
 "nbformat": 4,
 "nbformat_minor": 2
}
